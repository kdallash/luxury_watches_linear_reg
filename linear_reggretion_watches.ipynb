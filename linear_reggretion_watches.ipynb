{
 "cells": [
  {
   "cell_type": "markdown",
   "id": "5d8af242",
   "metadata": {},
   "source": [
    "## importing needed liberary\n"
   ]
  },
  {
   "cell_type": "code",
   "execution_count": 345,
   "id": "c107a505",
   "metadata": {},
   "outputs": [
    {
     "name": "stdout",
     "output_type": "stream",
     "text": [
      "Using matplotlib backend: module://matplotlib_inline.backend_inline\n"
     ]
    }
   ],
   "source": [
    "import numpy as np \n",
    "import pandas as pd \n",
    "import matplotlib.pyplot as plt \n",
    "%matplotlib"
   ]
  },
  {
   "cell_type": "markdown",
   "id": "5424fa3b",
   "metadata": {},
   "source": [
    "## dowemload the data\n",
    "\n"
   ]
  },
  {
   "cell_type": "markdown",
   "id": "e818001e",
   "metadata": {},
   "source": [
    "### data describtion\n",
    "• Brand: The brand of the watch.\n",
    "\n",
    "• Model: The model name or number of the watch.\n",
    "\n",
    "• Case Material: The material used to make the watch case (e.g., stainless steel, titanium, gold).\n",
    "\n",
    "• Strap Material: The material used to make the watch strap or bracelet (e.g., leather, rubber, metal).\n",
    "\n",
    "• Movement Type: The type of movement used in the watch (e.g., automatic, manual, quartz).\n",
    "\n",
    "• Water Resistance: The level of water resistance for the watch (e.g., 30 meters, 100 meters, 600 meters).\n",
    "\n",
    "• Case Diameter (mm): The diameter of the watch case in millimeters.\n",
    "\n",
    "• Case Thickness (mm): The thickness of the watch case in millimeters.\n",
    "\n",
    "• Band Width (mm): The width of the watch strap or bracelet in millimeters.\n",
    "\n",
    "• Dial Color: The color of the watch dial (e.g., black, blue, silver).\n",
    "\n",
    "• Crystal Material: The material used for the watch crystal (e.g., sapphire, mineral, hardlex).\n",
    "\n",
    "• Complications: Any additional functions or features beyond timekeeping (e.g., date display, chronograph, GMT).\n",
    "\n",
    "• Power Reserve: The amount of time the watch can run without winding or wearing (e.g., 48 hours, 72 hours).\n",
    "\n",
    "• Price (USD): The retail price of the watch in US dollars."
   ]
  },
  {
   "cell_type": "code",
   "execution_count": 347,
   "id": "286c4789",
   "metadata": {},
   "outputs": [
    {
     "name": "stdout",
     "output_type": "stream",
     "text": [
      "Warning: Looks like you're using an outdated `kagglehub` version, please consider updating (latest version: 0.3.12)\n",
      "Path to dataset files: C:\\Users\\Moga\\.cache\\kagglehub\\datasets\\rkiattisak\\luxury-watches-price-dataset\\versions\\1\n"
     ]
    }
   ],
   "source": [
    "import kagglehub\n",
    "\n",
    "# Download latest version\n",
    "path = kagglehub.dataset_download(\"rkiattisak/luxury-watches-price-dataset\")\n",
    "\n",
    "print(\"Path to dataset files:\", path)"
   ]
  },
  {
   "cell_type": "code",
   "execution_count": 348,
   "id": "804761be",
   "metadata": {},
   "outputs": [],
   "source": [
    "data = pd.read_csv(path+\"\\\\Luxury watch.csv\")"
   ]
  },
  {
   "cell_type": "markdown",
   "id": "e10aafcf",
   "metadata": {},
   "source": [
    "### exploring the data set \n"
   ]
  },
  {
   "cell_type": "code",
   "execution_count": 350,
   "id": "89ca4c41",
   "metadata": {},
   "outputs": [
    {
     "name": "stdout",
     "output_type": "stream",
     "text": [
      "<class 'pandas.core.frame.DataFrame'>\n",
      "RangeIndex: 507 entries, 0 to 506\n",
      "Data columns (total 14 columns):\n",
      " #   Column               Non-Null Count  Dtype  \n",
      "---  ------               --------------  -----  \n",
      " 0   Brand                507 non-null    object \n",
      " 1   Model                507 non-null    object \n",
      " 2   Case Material        507 non-null    object \n",
      " 3   Strap Material       507 non-null    object \n",
      " 4   Movement Type        507 non-null    object \n",
      " 5   Water Resistance     507 non-null    object \n",
      " 6   Case Diameter (mm)   507 non-null    float64\n",
      " 7   Case Thickness (mm)  507 non-null    float64\n",
      " 8   Band Width (mm)      507 non-null    float64\n",
      " 9   Dial Color           507 non-null    object \n",
      " 10  Crystal Material     507 non-null    object \n",
      " 11  Complications        385 non-null    object \n",
      " 12  Power Reserve        493 non-null    object \n",
      " 13  Price (USD)          506 non-null    object \n",
      "dtypes: float64(3), object(11)\n",
      "memory usage: 55.6+ KB\n"
     ]
    }
   ],
   "source": [
    "data.info()"
   ]
  },
  {
   "cell_type": "code",
   "execution_count": 351,
   "id": "9be91956",
   "metadata": {},
   "outputs": [
    {
     "data": {
      "text/html": [
       "<div>\n",
       "<style scoped>\n",
       "    .dataframe tbody tr th:only-of-type {\n",
       "        vertical-align: middle;\n",
       "    }\n",
       "\n",
       "    .dataframe tbody tr th {\n",
       "        vertical-align: top;\n",
       "    }\n",
       "\n",
       "    .dataframe thead th {\n",
       "        text-align: right;\n",
       "    }\n",
       "</style>\n",
       "<table border=\"1\" class=\"dataframe\">\n",
       "  <thead>\n",
       "    <tr style=\"text-align: right;\">\n",
       "      <th></th>\n",
       "      <th>Case Diameter (mm)</th>\n",
       "      <th>Case Thickness (mm)</th>\n",
       "      <th>Band Width (mm)</th>\n",
       "    </tr>\n",
       "  </thead>\n",
       "  <tbody>\n",
       "    <tr>\n",
       "      <th>count</th>\n",
       "      <td>507.000000</td>\n",
       "      <td>507.000000</td>\n",
       "      <td>507.000000</td>\n",
       "    </tr>\n",
       "    <tr>\n",
       "      <th>mean</th>\n",
       "      <td>41.046154</td>\n",
       "      <td>11.588343</td>\n",
       "      <td>21.105523</td>\n",
       "    </tr>\n",
       "    <tr>\n",
       "      <th>std</th>\n",
       "      <td>2.535339</td>\n",
       "      <td>2.491481</td>\n",
       "      <td>1.658375</td>\n",
       "    </tr>\n",
       "    <tr>\n",
       "      <th>min</th>\n",
       "      <td>27.500000</td>\n",
       "      <td>5.000000</td>\n",
       "      <td>15.000000</td>\n",
       "    </tr>\n",
       "    <tr>\n",
       "      <th>25%</th>\n",
       "      <td>40.000000</td>\n",
       "      <td>9.800000</td>\n",
       "      <td>20.000000</td>\n",
       "    </tr>\n",
       "    <tr>\n",
       "      <th>50%</th>\n",
       "      <td>41.000000</td>\n",
       "      <td>12.000000</td>\n",
       "      <td>20.000000</td>\n",
       "    </tr>\n",
       "    <tr>\n",
       "      <th>75%</th>\n",
       "      <td>42.000000</td>\n",
       "      <td>13.300000</td>\n",
       "      <td>22.000000</td>\n",
       "    </tr>\n",
       "    <tr>\n",
       "      <th>max</th>\n",
       "      <td>46.500000</td>\n",
       "      <td>17.500000</td>\n",
       "      <td>28.000000</td>\n",
       "    </tr>\n",
       "  </tbody>\n",
       "</table>\n",
       "</div>"
      ],
      "text/plain": [
       "       Case Diameter (mm)  Case Thickness (mm)  Band Width (mm)\n",
       "count          507.000000           507.000000       507.000000\n",
       "mean            41.046154            11.588343        21.105523\n",
       "std              2.535339             2.491481         1.658375\n",
       "min             27.500000             5.000000        15.000000\n",
       "25%             40.000000             9.800000        20.000000\n",
       "50%             41.000000            12.000000        20.000000\n",
       "75%             42.000000            13.300000        22.000000\n",
       "max             46.500000            17.500000        28.000000"
      ]
     },
     "execution_count": 351,
     "metadata": {},
     "output_type": "execute_result"
    }
   ],
   "source": [
    "data.describe()"
   ]
  },
  {
   "cell_type": "code",
   "execution_count": 352,
   "id": "2440cf4c",
   "metadata": {},
   "outputs": [
    {
     "data": {
      "text/html": [
       "<div>\n",
       "<style scoped>\n",
       "    .dataframe tbody tr th:only-of-type {\n",
       "        vertical-align: middle;\n",
       "    }\n",
       "\n",
       "    .dataframe tbody tr th {\n",
       "        vertical-align: top;\n",
       "    }\n",
       "\n",
       "    .dataframe thead th {\n",
       "        text-align: right;\n",
       "    }\n",
       "</style>\n",
       "<table border=\"1\" class=\"dataframe\">\n",
       "  <thead>\n",
       "    <tr style=\"text-align: right;\">\n",
       "      <th></th>\n",
       "      <th>Brand</th>\n",
       "      <th>Model</th>\n",
       "      <th>Case Material</th>\n",
       "      <th>Strap Material</th>\n",
       "      <th>Movement Type</th>\n",
       "      <th>Water Resistance</th>\n",
       "      <th>Case Diameter (mm)</th>\n",
       "      <th>Case Thickness (mm)</th>\n",
       "      <th>Band Width (mm)</th>\n",
       "      <th>Dial Color</th>\n",
       "      <th>Crystal Material</th>\n",
       "      <th>Complications</th>\n",
       "      <th>Power Reserve</th>\n",
       "      <th>Price (USD)</th>\n",
       "    </tr>\n",
       "  </thead>\n",
       "  <tbody>\n",
       "    <tr>\n",
       "      <th>0</th>\n",
       "      <td>Rolex</td>\n",
       "      <td>Submariner</td>\n",
       "      <td>Stainless Steel</td>\n",
       "      <td>Stainless Steel</td>\n",
       "      <td>Automatic</td>\n",
       "      <td>300 meters</td>\n",
       "      <td>40.0</td>\n",
       "      <td>13.00</td>\n",
       "      <td>20.0</td>\n",
       "      <td>Black</td>\n",
       "      <td>Sapphire</td>\n",
       "      <td>Date</td>\n",
       "      <td>48 hours</td>\n",
       "      <td>9,500</td>\n",
       "    </tr>\n",
       "    <tr>\n",
       "      <th>1</th>\n",
       "      <td>Omega</td>\n",
       "      <td>Seamaster</td>\n",
       "      <td>Titanium</td>\n",
       "      <td>Rubber</td>\n",
       "      <td>Automatic</td>\n",
       "      <td>600 meters</td>\n",
       "      <td>43.5</td>\n",
       "      <td>14.47</td>\n",
       "      <td>21.0</td>\n",
       "      <td>Blue</td>\n",
       "      <td>Sapphire</td>\n",
       "      <td>Date</td>\n",
       "      <td>60 hours</td>\n",
       "      <td>5,800</td>\n",
       "    </tr>\n",
       "    <tr>\n",
       "      <th>2</th>\n",
       "      <td>Tag Heuer</td>\n",
       "      <td>Carrera</td>\n",
       "      <td>Stainless Steel</td>\n",
       "      <td>Leather</td>\n",
       "      <td>Automatic</td>\n",
       "      <td>100 meters</td>\n",
       "      <td>41.0</td>\n",
       "      <td>13.00</td>\n",
       "      <td>20.0</td>\n",
       "      <td>White</td>\n",
       "      <td>Sapphire</td>\n",
       "      <td>Chronograph</td>\n",
       "      <td>42 hours</td>\n",
       "      <td>4,200</td>\n",
       "    </tr>\n",
       "    <tr>\n",
       "      <th>3</th>\n",
       "      <td>Breitling</td>\n",
       "      <td>Navitimer</td>\n",
       "      <td>Stainless Steel</td>\n",
       "      <td>Stainless Steel</td>\n",
       "      <td>Automatic</td>\n",
       "      <td>30 meters</td>\n",
       "      <td>43.0</td>\n",
       "      <td>14.25</td>\n",
       "      <td>22.0</td>\n",
       "      <td>Black</td>\n",
       "      <td>Sapphire</td>\n",
       "      <td>Chronograph</td>\n",
       "      <td>70 hours</td>\n",
       "      <td>7,900</td>\n",
       "    </tr>\n",
       "    <tr>\n",
       "      <th>4</th>\n",
       "      <td>Cartier</td>\n",
       "      <td>Tank Solo</td>\n",
       "      <td>Stainless Steel</td>\n",
       "      <td>Leather</td>\n",
       "      <td>Quartz</td>\n",
       "      <td>30 meters</td>\n",
       "      <td>31.0</td>\n",
       "      <td>6.05</td>\n",
       "      <td>20.0</td>\n",
       "      <td>Silver</td>\n",
       "      <td>Sapphire</td>\n",
       "      <td>NaN</td>\n",
       "      <td>NaN</td>\n",
       "      <td>2,800</td>\n",
       "    </tr>\n",
       "    <tr>\n",
       "      <th>...</th>\n",
       "      <td>...</td>\n",
       "      <td>...</td>\n",
       "      <td>...</td>\n",
       "      <td>...</td>\n",
       "      <td>...</td>\n",
       "      <td>...</td>\n",
       "      <td>...</td>\n",
       "      <td>...</td>\n",
       "      <td>...</td>\n",
       "      <td>...</td>\n",
       "      <td>...</td>\n",
       "      <td>...</td>\n",
       "      <td>...</td>\n",
       "      <td>...</td>\n",
       "    </tr>\n",
       "    <tr>\n",
       "      <th>502</th>\n",
       "      <td>Breguet</td>\n",
       "      <td>Classique</td>\n",
       "      <td>18k Rose Gold</td>\n",
       "      <td>Leather</td>\n",
       "      <td>Automatic</td>\n",
       "      <td>30 meters</td>\n",
       "      <td>38.5</td>\n",
       "      <td>8.25</td>\n",
       "      <td>20.0</td>\n",
       "      <td>White</td>\n",
       "      <td>Sapphire</td>\n",
       "      <td>Date</td>\n",
       "      <td>38 hours</td>\n",
       "      <td>21,500</td>\n",
       "    </tr>\n",
       "    <tr>\n",
       "      <th>503</th>\n",
       "      <td>Blancpain</td>\n",
       "      <td>Fifty Fathoms</td>\n",
       "      <td>Stainless Steel</td>\n",
       "      <td>Fabric</td>\n",
       "      <td>Automatic</td>\n",
       "      <td>300 meters</td>\n",
       "      <td>45.0</td>\n",
       "      <td>15.50</td>\n",
       "      <td>23.0</td>\n",
       "      <td>Black</td>\n",
       "      <td>Sapphire</td>\n",
       "      <td>Date</td>\n",
       "      <td>120 hours</td>\n",
       "      <td>13,500</td>\n",
       "    </tr>\n",
       "    <tr>\n",
       "      <th>504</th>\n",
       "      <td>Longines</td>\n",
       "      <td>Master Collection</td>\n",
       "      <td>Stainless Steel</td>\n",
       "      <td>Leather</td>\n",
       "      <td>Automatic</td>\n",
       "      <td>30 meters</td>\n",
       "      <td>38.5</td>\n",
       "      <td>9.70</td>\n",
       "      <td>20.0</td>\n",
       "      <td>Blue</td>\n",
       "      <td>Sapphire</td>\n",
       "      <td>Date</td>\n",
       "      <td>64 hours</td>\n",
       "      <td>1,800</td>\n",
       "    </tr>\n",
       "    <tr>\n",
       "      <th>505</th>\n",
       "      <td>Vacheron Constantin</td>\n",
       "      <td>Overseas</td>\n",
       "      <td>Stainless Steel</td>\n",
       "      <td>Stainless Steel</td>\n",
       "      <td>Automatic</td>\n",
       "      <td>150 meters</td>\n",
       "      <td>41.5</td>\n",
       "      <td>11.00</td>\n",
       "      <td>22.0</td>\n",
       "      <td>Blue</td>\n",
       "      <td>Sapphire</td>\n",
       "      <td>Date</td>\n",
       "      <td>40 hours</td>\n",
       "      <td>19,000</td>\n",
       "    </tr>\n",
       "    <tr>\n",
       "      <th>506</th>\n",
       "      <td>Frederique Constant</td>\n",
       "      <td>Classics</td>\n",
       "      <td>Stainless Steel</td>\n",
       "      <td>Leather</td>\n",
       "      <td>Automatic</td>\n",
       "      <td>50 meters</td>\n",
       "      <td>40.0</td>\n",
       "      <td>10.60</td>\n",
       "      <td>20.0</td>\n",
       "      <td>Silver</td>\n",
       "      <td>Sapphire</td>\n",
       "      <td>Date</td>\n",
       "      <td>38 hours</td>\n",
       "      <td>1,200</td>\n",
       "    </tr>\n",
       "  </tbody>\n",
       "</table>\n",
       "<p>507 rows × 14 columns</p>\n",
       "</div>"
      ],
      "text/plain": [
       "                   Brand              Model    Case Material   Strap Material  \\\n",
       "0                  Rolex         Submariner  Stainless Steel  Stainless Steel   \n",
       "1                  Omega          Seamaster         Titanium           Rubber   \n",
       "2              Tag Heuer            Carrera  Stainless Steel          Leather   \n",
       "3              Breitling          Navitimer  Stainless Steel  Stainless Steel   \n",
       "4                Cartier          Tank Solo  Stainless Steel          Leather   \n",
       "..                   ...                ...              ...              ...   \n",
       "502              Breguet          Classique    18k Rose Gold          Leather   \n",
       "503            Blancpain      Fifty Fathoms  Stainless Steel           Fabric   \n",
       "504             Longines  Master Collection  Stainless Steel          Leather   \n",
       "505  Vacheron Constantin           Overseas  Stainless Steel  Stainless Steel   \n",
       "506  Frederique Constant           Classics  Stainless Steel          Leather   \n",
       "\n",
       "    Movement Type Water Resistance  Case Diameter (mm)  Case Thickness (mm)  \\\n",
       "0       Automatic       300 meters                40.0                13.00   \n",
       "1       Automatic       600 meters                43.5                14.47   \n",
       "2       Automatic       100 meters                41.0                13.00   \n",
       "3       Automatic        30 meters                43.0                14.25   \n",
       "4          Quartz        30 meters                31.0                 6.05   \n",
       "..            ...              ...                 ...                  ...   \n",
       "502     Automatic        30 meters                38.5                 8.25   \n",
       "503     Automatic       300 meters                45.0                15.50   \n",
       "504     Automatic        30 meters                38.5                 9.70   \n",
       "505     Automatic       150 meters                41.5                11.00   \n",
       "506     Automatic        50 meters                40.0                10.60   \n",
       "\n",
       "     Band Width (mm) Dial Color Crystal Material Complications Power Reserve  \\\n",
       "0               20.0      Black         Sapphire          Date      48 hours   \n",
       "1               21.0       Blue         Sapphire          Date      60 hours   \n",
       "2               20.0      White         Sapphire   Chronograph      42 hours   \n",
       "3               22.0      Black         Sapphire   Chronograph      70 hours   \n",
       "4               20.0     Silver         Sapphire           NaN           NaN   \n",
       "..               ...        ...              ...           ...           ...   \n",
       "502             20.0      White         Sapphire          Date      38 hours   \n",
       "503             23.0      Black         Sapphire          Date     120 hours   \n",
       "504             20.0       Blue         Sapphire          Date      64 hours   \n",
       "505             22.0       Blue         Sapphire          Date      40 hours   \n",
       "506             20.0     Silver         Sapphire          Date      38 hours   \n",
       "\n",
       "    Price (USD)  \n",
       "0         9,500  \n",
       "1         5,800  \n",
       "2         4,200  \n",
       "3         7,900  \n",
       "4         2,800  \n",
       "..          ...  \n",
       "502      21,500  \n",
       "503      13,500  \n",
       "504       1,800  \n",
       "505      19,000  \n",
       "506       1,200  \n",
       "\n",
       "[507 rows x 14 columns]"
      ]
     },
     "execution_count": 352,
     "metadata": {},
     "output_type": "execute_result"
    }
   ],
   "source": [
    "data"
   ]
  },
  {
   "cell_type": "code",
   "execution_count": 353,
   "id": "884df518",
   "metadata": {},
   "outputs": [],
   "source": [
    "brand_counts = data['Brand'].value_counts()\n",
    "mask = brand_counts[brand_counts > 2].index\n",
    "filtered_data = data[data['Brand'].isin(mask)]"
   ]
  },
  {
   "cell_type": "code",
   "execution_count": 354,
   "id": "dbb1edd4",
   "metadata": {},
   "outputs": [],
   "source": [
    "data[\"Brand\"] = data[\"Brand\"].where(data.Brand.isin(filtered_data.Brand), \"other\")"
   ]
  },
  {
   "cell_type": "code",
   "execution_count": 355,
   "id": "ca678ab9",
   "metadata": {},
   "outputs": [
    {
     "data": {
      "text/plain": [
       "Brand\n",
       "IWC                    39\n",
       "Audemars Piguet        38\n",
       "Patek Philippe         33\n",
       "Zenith                 30\n",
       "Blancpain              29\n",
       "Rolex                  27\n",
       "Breguet                26\n",
       "Hublot                 26\n",
       "Vacheron Constantin    25\n",
       "Panerai                25\n",
       "Omega                  23\n",
       "Girard-Perregaux       20\n",
       "Cartier                19\n",
       "other                  17\n",
       "Jaeger-LeCoultre       16\n",
       "Breitling              16\n",
       "Tudor                  14\n",
       "Chopard                14\n",
       "Tag Heuer              11\n",
       "Longines               10\n",
       "Ulysse Nardin          10\n",
       "Montblanc               9\n",
       "Piaget                  6\n",
       "Jaquet Droz             5\n",
       "Seiko                   5\n",
       "Hamilton                4\n",
       "Bell & Ross             4\n",
       "Sinn                    3\n",
       "Bulgari                 3\n",
       "Name: count, dtype: int64"
      ]
     },
     "execution_count": 355,
     "metadata": {},
     "output_type": "execute_result"
    }
   ],
   "source": [
    "data.Brand.value_counts()"
   ]
  },
  {
   "cell_type": "code",
   "execution_count": 356,
   "id": "af8a529b",
   "metadata": {},
   "outputs": [],
   "source": [
    "data = data.dropna(subset=\"Price (USD)\")"
   ]
  },
  {
   "cell_type": "code",
   "execution_count": 357,
   "id": "f1e8d21a",
   "metadata": {},
   "outputs": [
    {
     "name": "stderr",
     "output_type": "stream",
     "text": [
      "C:\\Users\\Moga\\AppData\\Local\\Temp\\ipykernel_13040\\1469928630.py:1: SettingWithCopyWarning: \n",
      "A value is trying to be set on a copy of a slice from a DataFrame.\n",
      "Try using .loc[row_indexer,col_indexer] = value instead\n",
      "\n",
      "See the caveats in the documentation: https://pandas.pydata.org/pandas-docs/stable/user_guide/indexing.html#returning-a-view-versus-a-copy\n",
      "  data[\"Complications\"] = data[\"Complications\"].fillna(\"No_features\")\n"
     ]
    }
   ],
   "source": [
    "data[\"Complications\"] = data[\"Complications\"].fillna(\"No_features\")"
   ]
  },
  {
   "cell_type": "code",
   "execution_count": 358,
   "id": "c3bf9443",
   "metadata": {},
   "outputs": [],
   "source": [
    "def convert_to_num(data,label,word):\n",
    "    data[label] = data[label].str.replace(word,\"\")\n",
    "    data[label] = pd.to_numeric(data[label],errors=\"coerce\")"
   ]
  },
  {
   "cell_type": "code",
   "execution_count": 359,
   "id": "fd0258fb",
   "metadata": {},
   "outputs": [
    {
     "name": "stderr",
     "output_type": "stream",
     "text": [
      "C:\\Users\\Moga\\AppData\\Local\\Temp\\ipykernel_13040\\3130242806.py:2: SettingWithCopyWarning: \n",
      "A value is trying to be set on a copy of a slice from a DataFrame.\n",
      "Try using .loc[row_indexer,col_indexer] = value instead\n",
      "\n",
      "See the caveats in the documentation: https://pandas.pydata.org/pandas-docs/stable/user_guide/indexing.html#returning-a-view-versus-a-copy\n",
      "  data[label] = data[label].str.replace(word,\"\")\n",
      "C:\\Users\\Moga\\AppData\\Local\\Temp\\ipykernel_13040\\3130242806.py:3: SettingWithCopyWarning: \n",
      "A value is trying to be set on a copy of a slice from a DataFrame.\n",
      "Try using .loc[row_indexer,col_indexer] = value instead\n",
      "\n",
      "See the caveats in the documentation: https://pandas.pydata.org/pandas-docs/stable/user_guide/indexing.html#returning-a-view-versus-a-copy\n",
      "  data[label] = pd.to_numeric(data[label],errors=\"coerce\")\n"
     ]
    }
   ],
   "source": [
    "convert_to_num(data,\"Power Reserve\",\" hours\")\n",
    "convert_to_num(data ,\"Water Resistance\",\"meters\" )"
   ]
  },
  {
   "cell_type": "code",
   "execution_count": 360,
   "id": "170f1631",
   "metadata": {},
   "outputs": [
    {
     "name": "stderr",
     "output_type": "stream",
     "text": [
      "C:\\Users\\Moga\\AppData\\Local\\Temp\\ipykernel_13040\\3130242806.py:2: SettingWithCopyWarning: \n",
      "A value is trying to be set on a copy of a slice from a DataFrame.\n",
      "Try using .loc[row_indexer,col_indexer] = value instead\n",
      "\n",
      "See the caveats in the documentation: https://pandas.pydata.org/pandas-docs/stable/user_guide/indexing.html#returning-a-view-versus-a-copy\n",
      "  data[label] = data[label].str.replace(word,\"\")\n",
      "C:\\Users\\Moga\\AppData\\Local\\Temp\\ipykernel_13040\\3130242806.py:3: SettingWithCopyWarning: \n",
      "A value is trying to be set on a copy of a slice from a DataFrame.\n",
      "Try using .loc[row_indexer,col_indexer] = value instead\n",
      "\n",
      "See the caveats in the documentation: https://pandas.pydata.org/pandas-docs/stable/user_guide/indexing.html#returning-a-view-versus-a-copy\n",
      "  data[label] = pd.to_numeric(data[label],errors=\"coerce\")\n"
     ]
    }
   ],
   "source": [
    "convert_to_num(data,\"Price (USD)\",\",\")"
   ]
  },
  {
   "cell_type": "code",
   "execution_count": 361,
   "id": "c1fcc8d9",
   "metadata": {},
   "outputs": [
    {
     "name": "stdout",
     "output_type": "stream",
     "text": [
      "<class 'pandas.core.frame.DataFrame'>\n",
      "Index: 506 entries, 0 to 506\n",
      "Data columns (total 14 columns):\n",
      " #   Column               Non-Null Count  Dtype  \n",
      "---  ------               --------------  -----  \n",
      " 0   Brand                506 non-null    object \n",
      " 1   Model                506 non-null    object \n",
      " 2   Case Material        506 non-null    object \n",
      " 3   Strap Material       506 non-null    object \n",
      " 4   Movement Type        506 non-null    object \n",
      " 5   Water Resistance     506 non-null    int64  \n",
      " 6   Case Diameter (mm)   506 non-null    float64\n",
      " 7   Case Thickness (mm)  506 non-null    float64\n",
      " 8   Band Width (mm)      506 non-null    float64\n",
      " 9   Dial Color           506 non-null    object \n",
      " 10  Crystal Material     506 non-null    object \n",
      " 11  Complications        506 non-null    object \n",
      " 12  Power Reserve        490 non-null    float64\n",
      " 13  Price (USD)          506 non-null    int64  \n",
      "dtypes: float64(4), int64(2), object(8)\n",
      "memory usage: 59.3+ KB\n"
     ]
    }
   ],
   "source": [
    "data.info()"
   ]
  },
  {
   "cell_type": "code",
   "execution_count": null,
   "id": "0febd6fa",
   "metadata": {},
   "outputs": [],
   "source": [
    "from sklearn.pipeline import Pipeline\n",
    "from sklearn.impute import SimpleImputer\n",
    "from sklearn.preprocessing  import StandardScaler,OneHotEncoder,OrdinalEncoder\n"
   ]
  },
  {
   "cell_type": "code",
   "execution_count": 364,
   "id": "79c97802",
   "metadata": {},
   "outputs": [],
   "source": [
    "num_pipe= Pipeline(steps=[\n",
    "    (\"imputer\", SimpleImputer(strategy=\"median\")),\n",
    "    (\"scaler\",StandardScaler())\n",
    "    ]\n",
    ")\n",
    "cat_pipe = Pipeline(steps=[\n",
    "            (\"ordinal_encoder\", OrdinalEncoder()),    \n",
    "        (\"cat_encoder\", OneHotEncoder(sparse_output=False)),\n",
    "])"
   ]
  },
  {
   "cell_type": "code",
   "execution_count": 365,
   "id": "025b051a",
   "metadata": {},
   "outputs": [],
   "source": [
    "num_col = ['Water Resistance', 'Case Diameter (mm)', 'Case Thickness (mm)','Band Width (mm)','Power Reserve']\n",
    "cat_col = ['Brand', 'Model', 'Case Material', 'Strap Material', 'Movement Type','Dial Color', 'Crystal Material', 'Complications']"
   ]
  },
  {
   "cell_type": "code",
   "execution_count": 366,
   "id": "b38f684a",
   "metadata": {},
   "outputs": [],
   "source": [
    "from sklearn.compose import ColumnTransformer\n",
    "preprocess_pipe = ColumnTransformer([\n",
    "        (\"num\", num_pipe, num_col),\n",
    "        (\"cat\", cat_pipe, cat_col),\n",
    "    ])"
   ]
  },
  {
   "cell_type": "code",
   "execution_count": 367,
   "id": "5f9f8eab",
   "metadata": {},
   "outputs": [],
   "source": [
    "X = preprocess_pipe.fit_transform(data.drop(\"Price (USD)\",axis=1))"
   ]
  },
  {
   "cell_type": "code",
   "execution_count": 368,
   "id": "6c6232d2",
   "metadata": {},
   "outputs": [],
   "source": [
    "from sklearn.model_selection import train_test_split\n",
    "x_train, x_test, y_train, y_test = train_test_split(X,data[\"Price (USD)\"], test_size=0.2, random_state=24)"
   ]
  },
  {
   "cell_type": "code",
   "execution_count": 369,
   "id": "4dd57f8c",
   "metadata": {},
   "outputs": [
    {
     "data": {
      "text/plain": [
       "array([[-0.41815733, -0.01746314,  1.48916833, ...,  0.        ,\n",
       "         0.        ,  0.        ],\n",
       "       [ 1.19087392,  1.56045619,  1.569509  , ...,  1.        ,\n",
       "         0.        ,  0.        ],\n",
       "       [-0.14998546,  1.16597636,  1.16780564, ...,  0.        ,\n",
       "         0.        ,  0.        ],\n",
       "       ...,\n",
       "       [ 0.52044423, -0.01746314,  0.4447396 , ...,  0.        ,\n",
       "         0.        ,  0.        ],\n",
       "       [-0.14998546, -1.9898623 ,  0.16354725, ...,  0.        ,\n",
       "         0.        ,  0.        ],\n",
       "       [-0.14998546,  1.16597636,  0.58533577, ...,  1.        ,\n",
       "         0.        ,  0.        ]])"
      ]
     },
     "execution_count": 369,
     "metadata": {},
     "output_type": "execute_result"
    }
   ],
   "source": [
    "x_train"
   ]
  },
  {
   "cell_type": "markdown",
   "id": "77bb02a1",
   "metadata": {},
   "source": [
    "## selecting and training the model "
   ]
  },
  {
   "cell_type": "code",
   "execution_count": 370,
   "id": "d9063ec9",
   "metadata": {},
   "outputs": [],
   "source": [
    "from sklearn.model_selection import GridSearchCV\n",
    "from sklearn.linear_model import LinearRegression,Ridge\n",
    "from sklearn.ensemble import RandomForestRegressor"
   ]
  },
  {
   "cell_type": "code",
   "execution_count": 371,
   "id": "46158c1b",
   "metadata": {},
   "outputs": [],
   "source": [
    "models = {\n",
    "    \"Linear Regression\": (LinearRegression(), {\n",
    "        \"fit_intercept\": [True, False],\n",
    "    }),\n",
    "    \"Ridge Regression\": (Ridge(max_iter=10000), {\n",
    "        \"alpha\": [0.1, 1.0, 10.0],\n",
    "        \"fit_intercept\": [True, False],\n",
    "    }),\n",
    "    \n",
    "    \"Random Forest\": (RandomForestRegressor(), {\n",
    "        \"n_estimators\": [10, 50, 100],\n",
    "        \"max_depth\": [None, 10, 20],\n",
    "    })\n",
    "}"
   ]
  },
  {
   "cell_type": "code",
   "execution_count": 372,
   "id": "8e5ebf38",
   "metadata": {},
   "outputs": [],
   "source": [
    "results = {}\n",
    "for model_name, (model, param_grid) in models.items():\n",
    "    grid_search = GridSearchCV(model, param_grid, cv=5, scoring=\"r2\")\n",
    "    grid_search.fit(x_train, y_train.values.ravel())\n",
    "\n",
    "    results[model_name] ={\"score\" :grid_search.best_score_,\n",
    "                          \"parm\" : grid_search.best_params_}"
   ]
  },
  {
   "cell_type": "code",
   "execution_count": 373,
   "id": "f81640f7",
   "metadata": {},
   "outputs": [
    {
     "data": {
      "text/plain": [
       "{'Linear Regression': {'score': np.float64(0.8350918698087512),\n",
       "  'parm': {'fit_intercept': True}},\n",
       " 'Ridge Regression': {'score': np.float64(0.8438059255068235),\n",
       "  'parm': {'alpha': 1.0, 'fit_intercept': True}},\n",
       " 'Random Forest': {'score': np.float64(0.836163627387632),\n",
       "  'parm': {'max_depth': 20, 'n_estimators': 10}}}"
      ]
     },
     "execution_count": 373,
     "metadata": {},
     "output_type": "execute_result"
    }
   ],
   "source": [
    "# Linear Regression explain the data best\n",
    "results"
   ]
  },
  {
   "cell_type": "markdown",
   "id": "33d9c8d8",
   "metadata": {},
   "source": [
    "## predicting and scoring the model "
   ]
  },
  {
   "cell_type": "code",
   "execution_count": 374,
   "id": "9581b1a7",
   "metadata": {},
   "outputs": [],
   "source": [
    "lr = LinearRegression(fit_intercept = True)\n",
    "lr.fit(x_train,y_train)\n",
    "predict = lr.predict(x_test)"
   ]
  },
  {
   "cell_type": "code",
   "execution_count": 378,
   "id": "ad158824",
   "metadata": {},
   "outputs": [],
   "source": [
    "# importing the metrics \n",
    "from sklearn.metrics import r2_score,mean_absolute_error,max_error"
   ]
  },
  {
   "cell_type": "code",
   "execution_count": 379,
   "id": "d737cbe7",
   "metadata": {},
   "outputs": [],
   "source": [
    "def scoring(y_test,predict):\n",
    "    r2 = r2_score(y_true=y_test,y_pred=predict)\n",
    "    mean = mean_absolute_error(y_true=y_test,y_pred=predict)\n",
    "    max = max_error(y_true=y_test,y_pred=predict)\n",
    "    return(f\"r2 score =  {r2},mean absolute error = {mean},max error = {mean}\")"
   ]
  },
  {
   "cell_type": "code",
   "execution_count": 381,
   "id": "281c21cc",
   "metadata": {},
   "outputs": [
    {
     "data": {
      "text/plain": [
       "'r2 score =  0.819594169149606,mean absolute error = 2483.564644235506,max error = 2483.564644235506'"
      ]
     },
     "execution_count": 381,
     "metadata": {},
     "output_type": "execute_result"
    }
   ],
   "source": [
    "scoring(y_test,predict)"
   ]
  }
 ],
 "metadata": {
  "kernelspec": {
   "display_name": "Python 3",
   "language": "python",
   "name": "python3"
  },
  "language_info": {
   "codemirror_mode": {
    "name": "ipython",
    "version": 3
   },
   "file_extension": ".py",
   "mimetype": "text/x-python",
   "name": "python",
   "nbconvert_exporter": "python",
   "pygments_lexer": "ipython3",
   "version": "3.12.2"
  }
 },
 "nbformat": 4,
 "nbformat_minor": 5
}
